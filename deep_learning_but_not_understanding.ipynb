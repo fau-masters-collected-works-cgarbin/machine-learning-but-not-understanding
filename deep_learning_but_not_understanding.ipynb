{
 "cells": [
  {
   "cell_type": "markdown",
   "id": "d3cf2e21",
   "metadata": {},
   "source": [
    "# Deep learning, but not understanding\n",
    "\n",
    "CAP 6635 Artifical Intelligence Spring 2021\n",
    "Christian Garbin"
   ]
  },
  {
   "cell_type": "markdown",
   "id": "84a7338c",
   "metadata": {},
   "source": [
    "In the book \"Artifical Intelligence, a giude for thinking humans\" (Melanie Mitchell) _____________\n",
    "\n",
    "TODO"
   ]
  },
  {
   "cell_type": "markdown",
   "id": "53545427",
   "metadata": {},
   "source": [
    "the code is based on the [TensorFlow classification tutorial](https://www.tensorflow.org/tutorials/keras/classification) and the [TensorFlow CNN classification tutorial](https://www.tensorflow.org/tutorials/images/cnn)."
   ]
  },
  {
   "cell_type": "code",
   "execution_count": null,
   "id": "05f66c36",
   "metadata": {},
   "outputs": [],
   "source": [
    "import tensorflow as tf\n",
    "import numpy as np\n",
    "import matplotlib.pyplot as plt\n",
    "import images\n",
    "\n",
    "%matplotlib inline"
   ]
  },
  {
   "cell_type": "markdown",
   "id": "3f065986",
   "metadata": {},
   "source": [
    "To increase reproducibility (although it's not guaranteed)."
   ]
  },
  {
   "cell_type": "code",
   "execution_count": null,
   "id": "2f473f63",
   "metadata": {},
   "outputs": [],
   "source": [
    "# Based on https://stackoverflow.com/a/52897216\n",
    "seed_value = 0\n",
    "np.random.seed(seed_value)\n",
    "tf.random.set_seed(seed_value)"
   ]
  },
  {
   "cell_type": "code",
   "execution_count": null,
   "id": "b1defc7c",
   "metadata": {},
   "outputs": [],
   "source": [
    "images.create_datasets()\n",
    "(train_set, train_label), (test_set, test_label) = images.get_upright_dataset(10)\n",
    "class_names = images.get_class_labels()"
   ]
  },
  {
   "cell_type": "code",
   "execution_count": null,
   "id": "5de6f71e",
   "metadata": {},
   "outputs": [],
   "source": [
    "# Normalize a set and its labels\n",
    "def normalize_set(set, labels=None):\n",
    "    # Normalize the pixel value ranges to improve training\n",
    "    set = set / 255.0\n",
    "    # Reshape to match the network inoput layer shape\n",
    "    set = np.reshape(set,\n",
    "                    (-1, images.CANVAS_SIZE, images.CANVAS_SIZE, 1))\n",
    "\n",
    "    if labels is not None:\n",
    "        labels = np.reshape(labels, (-1, 1))\n",
    "        \n",
    "    return set, labels"
   ]
  },
  {
   "cell_type": "code",
   "execution_count": null,
   "id": "97ddd309",
   "metadata": {},
   "outputs": [],
   "source": [
    "train_set, train_label = normalize_set(train_set, train_label)\n",
    "test_set, test_label = normalize_set(test_set, test_label)"
   ]
  },
  {
   "cell_type": "code",
   "execution_count": null,
   "id": "94f7088d",
   "metadata": {},
   "outputs": [],
   "source": [
    "print(train_set.shape, train_set.dtype, train_label.shape, train_label.dtype)\n",
    "print(test_set.shape, test_set.dtype, test_label.shape, test_label.dtype)"
   ]
  },
  {
   "cell_type": "code",
   "execution_count": null,
   "id": "59db0174",
   "metadata": {},
   "outputs": [],
   "source": [
    "plt.figure(figsize=(8,8))\n",
    "for i in range(25):\n",
    "    plt.subplot(5,5,i+1)\n",
    "    plt.xticks([])\n",
    "    plt.yticks([])\n",
    "    plt.imshow(train_set[i], cmap='gray')\n",
    "    plt.xlabel(class_names[train_label[i][0]])\n",
    "plt.show()"
   ]
  },
  {
   "cell_type": "code",
   "execution_count": null,
   "id": "b83d40e1",
   "metadata": {},
   "outputs": [],
   "source": [
    "plt.figure(figsize=(8,8))\n",
    "for i in range(25):\n",
    "    plt.subplot(5,5,i+1)\n",
    "    plt.xticks([])\n",
    "    plt.yticks([])\n",
    "    plt.imshow(train_set[i], cmap='gray')\n",
    "    plt.xlabel(class_names[train_label[i][0]])\n",
    "plt.show()"
   ]
  },
  {
   "cell_type": "code",
   "execution_count": null,
   "id": "1d47fbd6",
   "metadata": {},
   "outputs": [],
   "source": [
    "INPUT_SHAPE = (images.CANVAS_SIZE, images.CANVAS_SIZE, 1)\n",
    "ACTIVATION = 'relu'\n",
    "NUM_CLASSES=2\n",
    "\n",
    "def get_model():\n",
    "    \"\"\"Return a compiled model, ready to be trained.\"\"\"\n",
    "    model = tf.keras.Sequential([\n",
    "        tf.keras.layers.Conv2D(64, (3, 3), activation=ACTIVATION,\n",
    "                               input_shape=INPUT_SHAPE),\n",
    "        tf.keras.layers.MaxPooling2D((2, 2)),\n",
    "        tf.keras.layers.Conv2D(128, (3, 3), activation=ACTIVATION),\n",
    "        tf.keras.layers.Flatten(),\n",
    "        tf.keras.layers.Dense(32, activation=ACTIVATION),\n",
    "        tf.keras.layers.Dense(NUM_CLASSES, activation='softmax'),\n",
    "    ])\n",
    "    \n",
    "    model.compile(optimizer='adam',\n",
    "              loss=tf.keras.losses.SparseCategoricalCrossentropy(from_logits=True),\n",
    "              metrics=['accuracy'])\n",
    "    \n",
    "    return model\n"
   ]
  },
  {
   "cell_type": "code",
   "execution_count": null,
   "id": "7cb0a5ba",
   "metadata": {},
   "outputs": [],
   "source": [
    "callback = tf.keras.callbacks.EarlyStopping(\n",
    "    monitor='val_loss',\n",
    "    patience=2, verbose=1,\n",
    "    restore_best_weights=True)"
   ]
  },
  {
   "cell_type": "code",
   "execution_count": null,
   "id": "c5365898",
   "metadata": {},
   "outputs": [],
   "source": [
    "model = get_model()\n",
    "model.fit(train_set, train_label, batch_size=32, epochs=3, \n",
    "          validation_data=(test_set, test_label), callbacks=[callback])"
   ]
  },
  {
   "cell_type": "code",
   "execution_count": null,
   "id": "744e940a",
   "metadata": {},
   "outputs": [],
   "source": [
    "pred_prob = model.predict(test_set)\n",
    "pred_label = np.argmax(pred_prob, axis=1)"
   ]
  },
  {
   "cell_type": "code",
   "execution_count": null,
   "id": "53b729cc",
   "metadata": {},
   "outputs": [],
   "source": [
    "print(pred_label)\n",
    "print(len(pred_label))"
   ]
  },
  {
   "cell_type": "code",
   "execution_count": null,
   "id": "db89648e",
   "metadata": {},
   "outputs": [],
   "source": [
    "plt.figure(figsize=(10,10))\n",
    "for i in range(67):\n",
    "    plt.subplot(8,9,i+1)\n",
    "    plt.xticks([])\n",
    "    plt.yticks([])\n",
    "    plt.grid(False)\n",
    "    cmap = 'gray' if pred_label[i] == test_label[i][0] else 'Reds'\n",
    "    plt.imshow(test_set[i], cmap=cmap)\n",
    "    plt.xlabel(class_names[pred_label[i]])\n",
    "plt.show()"
   ]
  },
  {
   "cell_type": "code",
   "execution_count": null,
   "id": "20d3b358",
   "metadata": {},
   "outputs": [],
   "source": [
    "rotated_squares = images.get_square_rotated_dataset()\n",
    "rotated_squares, _ = normalize_set(rotated_squares)"
   ]
  },
  {
   "cell_type": "code",
   "execution_count": null,
   "id": "d4abb508",
   "metadata": {},
   "outputs": [],
   "source": [
    "pred_prob = model.predict(rotated_squares)\n",
    "pred_label = np.argmax(pred_prob, axis=1)"
   ]
  },
  {
   "cell_type": "code",
   "execution_count": null,
   "id": "63b21cfe",
   "metadata": {},
   "outputs": [],
   "source": [
    "print(pred_label)\n",
    "print(len(pred_label))"
   ]
  },
  {
   "cell_type": "code",
   "execution_count": null,
   "id": "c8b4dec2",
   "metadata": {},
   "outputs": [],
   "source": [
    "plt.figure(figsize=(12,12))\n",
    "for i in range(88):\n",
    "    plt.subplot(11,8,i+1)\n",
    "    plt.xticks([])\n",
    "    plt.yticks([])\n",
    "    plt.grid(False)\n",
    "    cmap = 'gray' if pred_label[i] == 0 else 'Reds'\n",
    "    plt.imshow(rotated_squares[i], cmap=cmap)\n",
    "    plt.xlabel(class_names[pred_label[i]])\n",
    "plt.show()"
   ]
  },
  {
   "cell_type": "code",
   "execution_count": null,
   "id": "94aeec5f",
   "metadata": {},
   "outputs": [],
   "source": []
  }
 ],
 "metadata": {
  "kernelspec": {
   "display_name": "Python 3",
   "language": "python",
   "name": "python3"
  },
  "language_info": {
   "codemirror_mode": {
    "name": "ipython",
    "version": 3
   },
   "file_extension": ".py",
   "mimetype": "text/x-python",
   "name": "python",
   "nbconvert_exporter": "python",
   "pygments_lexer": "ipython3",
   "version": "3.7.7"
  }
 },
 "nbformat": 4,
 "nbformat_minor": 5
}
